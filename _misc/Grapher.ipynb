{
  "metadata": {
    "kernelspec": {
      "name": "python",
      "display_name": "Python (Pyodide)",
      "language": "python"
    },
    "language_info": {
      "codemirror_mode": {
        "name": "python",
        "version": 3
      },
      "file_extension": ".py",
      "mimetype": "text/x-python",
      "name": "python",
      "nbconvert_exporter": "python",
      "pygments_lexer": "ipython3",
      "version": "3.8"
    }
  },
  "nbformat_minor": 4,
  "nbformat": 4,
  "cells": [
    {
      "cell_type": "code",
      "source": "%pip install -q ipywidgets",
      "metadata": {
        "trusted": true
      },
      "outputs": [],
      "execution_count": null
    },
    {
      "cell_type": "code",
      "source": "import numpy as np\nimport matplotlib.pyplot as plt\nimport codecs\nimport json\nfrom ipywidgets import FileUpload\n\nuploader = FileUpload(accept = \".json\", multiple = False)\ndisplay(uploader)",
      "metadata": {
        "trusted": true
      },
      "outputs": [],
      "execution_count": null
    },
    {
      "cell_type": "code",
      "source": "def tf_entry(entry):\n    return {\n        #\"Total\": entry[\"days\"],\n        \"Tourism\": entry[\"milestones\"][\"TouristCenter\"],\n        \"Quantum\": entry[\"milestones\"][\"tech-quantum_manufacturing\"] - entry[\"milestones\"][\"TouristCenter\"],\n        \"Stargate\": entry[\"milestones\"][\"BlackholeStargateComplete\"] - entry[\"milestones\"][\"tech-quantum_manufacturing\"],\n        \"Embassy\": entry[\"milestones\"][\"GorddonEmbassy\"] - entry[\"milestones\"][\"BlackholeStargateComplete\"],\n        \"Alien2\": entry[\"milestones\"][\"Alien2Foothold\"] - entry[\"milestones\"][\"GorddonEmbassy\"],\n        \"Chthonian\": entry[\"milestones\"][\"ChthonianMission\"] - entry[\"milestones\"][\"Alien2Foothold\"],\n        \"End\": entry[\"days\"] - entry[\"milestones\"][\"ChthonianMission\"],\n    }\n\ndef tf_entry_total(entry):\n    return {\n        \"Total\": entry[\"days\"],\n    }\n\ndef process_json(raw):\n    entries = [entry for entry in raw[\"entries\"] if entry[\"reset\"] > 1800]\n    fig, (ax, ax_total) = plt.subplots(ncols= 2, figsize=(12,8), dpi=100, gridspec_kw={\"width_ratios\": [85, 15]})\n    ax.set_ylabel(\"Days\")\n    all_processed = [tf_entry(entry) for entry in entries]\n    labels = list(all_processed[0])\n    ax.set_xlabel(\"Previous to next objective\")\n    ax.set_xticks([i for i in range(1, len(labels) + 1)], labels=labels)\n    data = [\n        [entry[key] for entry in all_processed] for key in labels\n    ]\n    ax.violinplot(data, showmedians=True, showmeans=True)\n\n    all_processed_total = [tf_entry_total(entry) for entry in entries]\n    labels_total = list(all_processed_total[0])\n    data_total = [\n        [entry[key] for entry in all_processed_total] for key in labels_total\n    ]\n    ax_total.set_ylabel(\"Days\")\n    ax_total.violinplot(data_total, showmedians=True, showmeans=True)\n    #print(all_processed)\n\n    return fig\n\nif len(uploader.value) > 0:\n    photograph = process_json(json.loads(codecs.decode(uploader.value[0].content, encoding = \"utf-8\")))\n    #display(photograph) <-- it displays itself?",
      "metadata": {
        "trusted": true
      },
      "outputs": [],
      "execution_count": null
    }
  ]
}